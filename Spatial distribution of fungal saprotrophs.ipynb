{
 "cells": [
  {
   "cell_type": "markdown",
   "metadata": {},
   "source": [
    "# Mapping distribution of fungal richness and proportion under climate change scenarios by python\n",
    "# e.g., fungal saprotrophs"
   ]
  },
  {
   "cell_type": "code",
   "execution_count": null,
   "metadata": {},
   "outputs": [],
   "source": [
    "#import python packages for mapping fungal saprotrophs in current\n",
    "from pyhdf.SD import SD, SDC # hdf4 \n",
    "import glob\n",
    "from sklearn.neighbors import KDTree\n",
    "from datetime import datetime\n",
    "from multiprocessing import Pool\n",
    "import xarray as xr\n",
    "import numpy as np\n",
    "import pandas as pd\n",
    "import os,glob\n",
    "import matplotlib.pyplot as plt\n",
    "import pprint\n",
    "import os\n",
    "import re\n",
    "import pyproj\n",
    "\n",
    "from sklearn.ensemble import RandomForestRegressor\n",
    "# from sklearn.model_selection import train_test_split\n",
    "from sklearn.metrics import r2_score\n",
    "from statsmodels.formula.api import ols\n",
    "from sklearn.preprocessing import LabelEncoder\n",
    "\n",
    "from osgeo import gdal\n",
    "import warnings\n",
    "warnings.filterwarnings(\"ignore\")\n",
    "%matplotlib inline\n"
   ]
  },
  {
   "cell_type": "code",
   "execution_count": null,
   "metadata": {},
   "outputs": [],
   "source": [
    "df=pd.read_table('F:/projection_data.csv',sep=',')\n",
    "# Import environmental variables\n",
    "x=df[['band1','band2','band3','band4','band10','band11','band12','band15','band18','band19','slope','gpp']]\n",
    "# Import richness of fungal saprotrophs\n",
    "saprotrophs=df.iloc[:,[7]]"
   ]
  },
  {
   "cell_type": "code",
   "execution_count": null,
   "metadata": {},
   "outputs": [],
   "source": [
    "# Import layers of environmental variables\n",
    "datapath=\"F:/current/\"\n",
    "band1=xr.open_rasterio(datapath+'clim/band1.tif')\n",
    "band2=xr.open_rasterio(datapath+'clim/band2.tif')\n",
    "band3=xr.open_rasterio(datapath+'clim/band3.tif')\n",
    "band4=xr.open_rasterio(datapath+'clim/band4.tif')\n",
    "band10=xr.open_rasterio(datapath+'clim/band10.tif')\n",
    "band11=xr.open_rasterio(datapath+'clim/band11.tif')\n",
    "band12=xr.open_rasterio(datapath+'clim/band12.tif')\n",
    "band15=xr.open_rasterio(datapath+'clim/band15.tif')\n",
    "band18=xr.open_rasterio(datapath+'clim/band18.tif')\n",
    "band19=xr.open_rasterio(datapath+'clim/band19.tif')\n",
    "slope=xr.open_rasterio(datapath+'topo/slope.tif')\n",
    "gpp=xr.open_rasterio(datapath+'vege/gpp.tif')"
   ]
  },
  {
   "cell_type": "code",
   "execution_count": null,
   "metadata": {},
   "outputs": [],
   "source": [
    "band1=band1.values\n",
    "band2=band2.values\n",
    "band3=band3.values\n",
    "band4=band4.values\n",
    "band10=band10.values\n",
    "band11=band11.values\n",
    "band12=band12.values\n",
    "band15=band15.values\n",
    "band18=band18.values\n",
    "band19=band19.values\n",
    "slope=slope.values\n",
    "gpp=gpp.values"
   ]
  },
  {
   "cell_type": "code",
   "execution_count": null,
   "metadata": {},
   "outputs": [],
   "source": [
    "modeldata=np.dstack([band1.ravel(),\n",
    "                     band2.ravel(),\n",
    "                     band3.ravel(),\n",
    "                     band4.ravel(),\n",
    "                     band10.ravel(),\n",
    "                     band11.ravel(),\n",
    "                     band12.ravel(),\n",
    "                     band15.ravel(),\n",
    "                     band18.ravel(),\n",
    "                     band19.ravel(),\n",
    "                     slope.ravel(),\n",
    "                     gpp.ravel()\n",
    "                     ]).squeeze()"
   ]
  },
  {
   "cell_type": "code",
   "execution_count": null,
   "metadata": {},
   "outputs": [],
   "source": [
    "# Define training dataset, test dataset, and tree numbers of random forest regression\n",
    "x_train,x_test,y_train,y_test=train_test_split(\n",
    "                                            x,saprotrophs,\n",
    "                                            test_size=0.2,\n",
    "                                            random_state=42)\n",
    "\n",
    "model=RandomForestRegressor(n_estimators=500,n_jobs=-1)\n",
    "model.fit(x_train,y_train)"
   ]
  },
  {
   "cell_type": "code",
   "execution_count": null,
   "metadata": {},
   "outputs": [],
   "source": [
    "# Assess the accuracy (R2) of random forest regression\n",
    "r2_score(y_test,model.predict(x_test))\n",
    "r2_score(y_train,model.predict(x_train))\n",
    "rf=model.predict(modeldata)"
   ]
  },
  {
   "cell_type": "code",
   "execution_count": null,
   "metadata": {},
   "outputs": [],
   "source": [
    "# Mapping the gini importance of environmental variables\n",
    "features=np.array(x_train.columns)\n",
    "imps_gini=model.feature_importances_\n",
    "std_gini=np.std([tree.feature_importances_ for tree in model.estimators_],axis=0)\n",
    "indices_gini=np.argsort(imps_gini)\n",
    "plt.title('Feature Importance')\n",
    "plt.barh(range(len(indices_gini)),imps_gini[indices_gini],yerr=std_gini[indices_gini],color='c', align='center')\n",
    "plt.yticks(range(len(indices_gini)), features[indices_gini])\n",
    "plt.xlabel('Gini Importance')\n",
    "plt.savefig('F:/ gini_saprotrohps.pdf',dpi=300)\n",
    "plt.show()"
   ]
  },
  {
   "cell_type": "code",
   "execution_count": null,
   "metadata": {},
   "outputs": [],
   "source": [
    "# Define the export information\n",
    "def writeTiff(im_data,im_geotrans,im_proj,path):\n",
    "    if 'int8' in im_data.dtype.name:\n",
    "        datatype = gdal.GDT_Byte\n",
    "    elif 'int16' in im_data.dtype.name:\n",
    "        datatype = gdal.GDT_UInt16\n",
    "    else:\n",
    "        datatype = gdal.GDT_Float32\n",
    "    if len(im_data.shape) == 3:\n",
    "        im_bands, im_height, im_width = im_data.shape\n",
    "    elif len(im_data.shape) == 2:\n",
    "        im_data = np.array([im_data])\n",
    "        im_bands, im_height, im_width = im_data.shape\n",
    "    \n",
    "    driver = gdal.GetDriverByName(\"GTiff\")\n",
    "    dataset = driver.Create(path, int(im_width), int(im_height), int(im_bands), datatype)\n",
    "    if(dataset!= None):\n",
    "        dataset.SetGeoTransform(im_geotrans)\n",
    "        dataset.SetProjection(im_proj)\n",
    "    for i in range(im_bands):\n",
    "        dataset.GetRasterBand(i+1).WriteArray(im_data[i])\n",
    "    del dataset"
   ]
  },
  {
   "cell_type": "code",
   "execution_count": null,
   "metadata": {},
   "outputs": [],
   "source": [
    "# Export the result of fungal saprotrophs richness under current scenarios\n",
    "band2=r'F:/band2.tif'\n",
    "in_ds=gdal.Open(band2)\n",
    "\n",
    "tif_width=in_ds.RasterXSize\n",
    "tif_height=in_ds.RasterYSize\n",
    "tif_geotrans=in_ds.GetGeoTransform()\n",
    "tif_proj=in_ds.GetProjection()\n",
    "output_data=in_ds.ReadAsArray(0,0,tif_width,tif_height)\n",
    "savepath='F:/saprotrophs/current/' \n",
    "rf=rf.reshape(output_data.shape)\n",
    "writeTiff(rf,tif_geotrans,tif_proj,savepath+\"current\"+\".tif\")"
   ]
  }
 ],
 "metadata": {
  "kernelspec": {
   "display_name": "geopython",
   "language": "python",
   "name": "python3"
  },
  "language_info": {
   "name": "python",
   "version": "3.6.13"
  }
 },
 "nbformat": 4,
 "nbformat_minor": 2
}
