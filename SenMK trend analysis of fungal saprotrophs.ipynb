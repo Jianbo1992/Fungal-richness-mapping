{
 "cells": [
  {
   "cell_type": "markdown",
   "metadata": {},
   "source": [
    "#Part 3: Trend analysis using python\n",
    "#e.g., fungal saprotrophs richness under SSP1-2.6 scenarios"
   ]
  },
  {
   "cell_type": "code",
   "execution_count": null,
   "metadata": {},
   "outputs": [],
   "source": [
    "#import python packages\n",
    "import numpy as np\n",
    "import pandas as pd\n",
    "import pymannkendall as mk\n",
    "from datetime import datetime, timedelta\n",
    "import matplotlib.pyplot as plt\n",
    "import sys,glob,os\n",
    "from datetime import datetime\n",
    "import xarray as xr\n",
    "import rioxarray\n",
    "import rasterio as ras\n",
    "import warnings\n",
    "warnings.filterwarnings('ignore')"
   ]
  },
  {
   "cell_type": "code",
   "execution_count": null,
   "metadata": {},
   "outputs": [],
   "source": [
    "# Define path road of import and export\n",
    "path1=\"F:/senMK/ssp126/saprotrophs/\"\n",
    "result_path=\"F:/fungidata/126/saprotrophs/\""
   ]
  },
  {
   "cell_type": "code",
   "execution_count": null,
   "metadata": {},
   "outputs": [],
   "source": [
    "# Import layers of fungal saprotrophs richness with 5 periods (current, 2021-2040, 2041-2060, 2061-2080, 2081-2100)\n",
    "filepaths=[]\n",
    "for file in sorted(glob.glob(path1+\"*.tif\"))[:]:\n",
    "    filepath1=os.path.join(path1,file)\n",
    "    filepaths.append(filepath1)\n",
    "    \n",
    "num_images=len(filepaths)\n",
    "\n",
    "img1=ras.open(filepaths[0])\n",
    "transform1=img1.transform\n",
    "height1=img1.height\n",
    "width1=img1.width \n",
    "array1=img1.read()\n",
    "img1.close()\n",
    "\n",
    "for path1 in filepaths[0:]:\n",
    "    if path1[-3:]=='tif':\n",
    "        print(path1)\n",
    "        img2=ras.open(path1)\n",
    "        array2=img2.read()\n",
    "        array1=np.vstack((array1,array2))\n",
    "        img2.close()\n",
    "    \n",
    "nums,width,height=array1.shape\n",
    "  \n",
    "slope_array=np.full([width,height],-9999.0000) \n",
    "z_array=np.full([width,height],-9999.0000)\n",
    "Trend_array=np.full([width,height],-9999.0000) \n",
    "Tau_array=np.full([width,height],-9999.0000)\n",
    "s_array=np.full([width,height],-9999.0000)\n",
    "p_array=np.full([width,height],-9999.0000)\n",
    "c1=np.isnan(array1)\n",
    "sum_array1=np.sum(c1,axis=0)\n",
    "nan_positions=np.where(sum_array1==num_images)\n",
    "positions=np.where(sum_array1!=num_images) \n",
    "print(\"all the pixel counts are {0}\".format(len(positions[0])))"
   ]
  },
  {
   "cell_type": "code",
   "execution_count": null,
   "metadata": {},
   "outputs": [],
   "source": [
    "# To run the Sen’s slope estimator and Mann–Kendall trend test\n",
    "for i in range(len(positions[0])):\n",
    "    print(i)\n",
    "    x=positions[0][i]\n",
    "    y=positions[1][i]    \n",
    "    mk_list1=array1[:,x,y]\n",
    "    trend, h, p, z, Tau, s, var_s, slope, intercept  = mk.original_test(mk_list1)\n",
    "    if trend==\"decreasing\":\n",
    "        trend_value=-1\n",
    "    elif trend==\"increasing\":\n",
    "        trend_value=1\n",
    "    else:\n",
    "        trend_value=0\n",
    "    slope_array[x,y]=slope#senslope\n",
    "    s_array[x,y]=s\n",
    "    z_array[x,y]=z\n",
    "    Trend_array[x,y]=trend_value\n",
    "    p_array[x,y]=p\n",
    "    Tau_array[x,y]=Tau"
   ]
  },
  {
   "cell_type": "code",
   "execution_count": null,
   "metadata": {},
   "outputs": [],
   "source": [
    "# Define the export information\n",
    "def writeImage(image_save_path,height1,width1,para_array,bandDes,transform1):\n",
    "    with ras.open(\n",
    "           image_save_path,\n",
    "           'w',\n",
    "           driver='GTiff',\n",
    "           height=height1,\n",
    "           width=width1,\n",
    "           count=1,\n",
    "           dtype=para_array.dtype,\n",
    "           crs='+proj=latlong',\n",
    "           transform=transform1,\n",
    "    ) as dst:\n",
    "               dst.write_band(1,para_array)\n",
    "               dst.set_band_description(1,bandDes)\n",
    "    del dst\n",
    "\n",
    "# Export results of Sen’s slope estimator and Mann–Kendall tests\n",
    "all_array=[slope_array,Trend_array,p_array,s_array,Tau_array,z_array]   \n",
    "slope_save_path=os.path.join(result_path,\"ssp126_slope.tif\")\n",
    "Trend_save_path=os.path.join(result_path,\"ssp126_Trend.tif\")\n",
    "p_save_path=os.path.join(result_path,\"ssp126_pvalue.tif\")\n",
    "s_save_path=os.path.join(result_path,\"ssp126_s.tif\")\n",
    "tau_save_path=os.path.join(result_path,\"ssp126_tau.tif\")\n",
    "z_save_path=os.path.join(result_path,\"ssp126_Zvalue.tif\")\n",
    "image_save_paths=[slope_save_path,Trend_save_path,p_save_path,s_save_path,tau_save_path,z_save_path]\n",
    "band_Des=['slope','trend','p_value','score','tau','z_value']\n",
    "for i in range(len(all_array)):\n",
    "    writeImage(image_save_paths[i], height1, width1, all_array[i], band_Des[i],transform1)\n"
   ]
  }
 ],
 "metadata": {
  "kernelspec": {
   "display_name": "geopython",
   "language": "python",
   "name": "python3"
  },
  "language_info": {
   "name": "python",
   "version": "3.6.13"
  }
 },
 "nbformat": 4,
 "nbformat_minor": 2
}
